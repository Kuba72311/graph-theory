{
 "cells": [
  {
   "cell_type": "markdown",
   "id": "10bccb13",
   "metadata": {},
   "source": [
    "# Explanation of the Graph Isomorphism Problem"
   ]
  },
  {
   "cell_type": "markdown",
   "id": "b51c1602",
   "metadata": {},
   "source": [
    "***"
   ]
  },
  {
   "cell_type": "markdown",
   "id": "fa764e36",
   "metadata": {},
   "source": [
    "The graph isomorphism problem is the computational problem of determining whether two finite graphs are isomorphic.It first emerged in the 70s as one of the few natural problems in the complexity class NP that could not be shown to be solvable with an efficient algorithm.\n",
    "\n",
    "Two graphs are said to be isomorphic if an isomorphism is present between the two graphs. In graph theory, an isomorphism of two graphs A & B is a bijection between the vertex sets of A & B. This means that are there no elements that are unpaired.\n",
    "\n",
    "Below are two graphs that are isomorphic. We can assume the first graph is A and the second graph is B.\n",
    "\n",
    "On these graphs we can see the following isomorphism.\n",
    "\n",
    "A(a) = B(1) |\n",
    "A(b) = B(6) |\n",
    "A(c) = B(8) |\n",
    "A(d) = B(3) |\n",
    "A(g) = B(2) |\n",
    "A(i) = B(4) |\n",
    "A(j) = B(7) |\n",
    "\n",
    "The isomorphism from graph A to graph B is a one-to-one mapping π from the vertices of the first graph A onto the vertices of the second graph B that preserves adjacency and nonadjacency.\n",
    "\n"
   ]
  },
  {
   "cell_type": "markdown",
   "id": "030c0f5d",
   "metadata": {},
   "source": [
    "\n",
    "![Graph A](https://upload.wikimedia.org/wikipedia/commons/thumb/9/9a/Graph_isomorphism_a.svg/100px-Graph_isomorphism_a.svg.png) ![Graph B](https://upload.wikimedia.org/wikipedia/commons/thumb/8/84/Graph_isomorphism_b.svg/210px-Graph_isomorphism_b.svg.png)"
   ]
  },
  {
   "cell_type": "markdown",
   "id": "4772f527",
   "metadata": {},
   "source": [
    "***"
   ]
  },
  {
   "cell_type": "markdown",
   "id": "eceea3d3",
   "metadata": {},
   "source": [
    "# How Are Graphs Represented in Data Structures?"
   ]
  },
  {
   "cell_type": "markdown",
   "id": "afd77383",
   "metadata": {},
   "source": [
    "***"
   ]
  },
  {
   "cell_type": "markdown",
   "id": "e11fa69a",
   "metadata": {},
   "source": [
    "Graphs are visual representations of sets of values where pairs of values are connected by links. <u>Vertices</u> are the points that represent the connected values while <u>Edges</u> are the links that connect the vertices together."
   ]
  },
  {
   "cell_type": "markdown",
   "id": "c2150b10",
   "metadata": {},
   "source": [
    "![graphs](https://www.tutorialspoint.com/data_structures_algorithms/images/graph_basics.jpg)"
   ]
  },
  {
   "cell_type": "markdown",
   "id": "c414377c",
   "metadata": {},
   "source": [
    "In the above graph the vertices are (a,b,c,d,e)"
   ]
  },
  {
   "cell_type": "markdown",
   "id": "33ed6321",
   "metadata": {},
   "source": [
    "The set of edges is (ab,ac,bd,cd,de) as this is what connects the vertices together."
   ]
  },
  {
   "cell_type": "markdown",
   "id": "41c2e51e",
   "metadata": {},
   "source": [
    "Graphs can be represented in data structure by using an array of vertices and a 2D array of edges"
   ]
  },
  {
   "cell_type": "markdown",
   "id": "91aa5492",
   "metadata": {},
   "source": [
    "# References"
   ]
  },
  {
   "cell_type": "markdown",
   "id": "73b5b78b",
   "metadata": {},
   "source": [
    "***"
   ]
  },
  {
   "cell_type": "markdown",
   "id": "971ef34d",
   "metadata": {},
   "source": [
    "Graph Isomorphism problem: (https://cacm.acm.org/magazines/2020/11/248220-the-graph-isomorphism-problem/fulltext)"
   ]
  },
  {
   "cell_type": "markdown",
   "id": "4b614510",
   "metadata": {},
   "source": [
    "Graph Isomorphism: (https://en.wikipedia.org/wiki/Graph_isomorphism)"
   ]
  },
  {
   "cell_type": "markdown",
   "id": "19efb572",
   "metadata": {},
   "source": [
    "Representation of Graphs in Data Structures: (https://www.tutorialspoint.com/data_structures_algorithms/graph_data_structure.htm)"
   ]
  }
 ],
 "metadata": {
  "kernelspec": {
   "display_name": "Python 3 (ipykernel)",
   "language": "python",
   "name": "python3"
  },
  "language_info": {
   "codemirror_mode": {
    "name": "ipython",
    "version": 3
   },
   "file_extension": ".py",
   "mimetype": "text/x-python",
   "name": "python",
   "nbconvert_exporter": "python",
   "pygments_lexer": "ipython3",
   "version": "3.9.7"
  }
 },
 "nbformat": 4,
 "nbformat_minor": 5
}
