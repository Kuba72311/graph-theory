{
 "cells": [
  {
   "cell_type": "markdown",
   "id": "10bccb13",
   "metadata": {},
   "source": [
    "# Explanation of the Graph Isomorphism Problem"
   ]
  },
  {
   "cell_type": "markdown",
   "id": "b51c1602",
   "metadata": {},
   "source": [
    "***"
   ]
  },
  {
   "cell_type": "markdown",
   "id": "fa764e36",
   "metadata": {},
   "source": [
    "The graph isomorphism problem is the computational problem of determining whether two finite graphs are isomorphic.\n",
    "Two graphs are said to be isomorphic if an isomorphism is present between the two graphs. In graph theory, an isomorphism of two graphs A & B is a bijection between the vertex sets of A & B. This means that are there no elements that are unpaired.\n",
    "\n",
    "Below are two graphs that are isomorphic. We can assume the first graph is A and the second graph is B.\n",
    "![Graph A](https://upload.wikimedia.org/wikipedia/commons/thumb/9/9a/Graph_isomorphism_a.svg/100px-Graph_isomorphism_a.svg.png)     ![Graph B](https://upload.wikimedia.org/wikipedia/commons/thumb/8/84/Graph_isomorphism_b.svg/210px-Graph_isomorphism_b.svg.png)\n",
    "\n",
    "on these graphs we can see the following isomorphism.\n",
    "\n",
    "A(a) = B(1) |\n",
    "A(b) = B(6) |\n",
    "A(c) = B(8) |\n",
    "A(d) = B(3) |\n",
    "A(g) = B(2) |\n",
    "A(i) = B(4) |\n",
    "A(j) = B(7) |\n",
    "\n",
    "The isomorphism from graph A to graph B is a one-to-one mapping π from the vertices of the first graph A onto the vertices of the second graph B that preserves adjacency and nonadjacency.\n",
    "\n",
    "\n",
    "\n",
    "\n",
    "\n"
   ]
  }
 ],
 "metadata": {
  "kernelspec": {
   "display_name": "Python 3 (ipykernel)",
   "language": "python",
   "name": "python3"
  },
  "language_info": {
   "codemirror_mode": {
    "name": "ipython",
    "version": 3
   },
   "file_extension": ".py",
   "mimetype": "text/x-python",
   "name": "python",
   "nbconvert_exporter": "python",
   "pygments_lexer": "ipython3",
   "version": "3.9.7"
  }
 },
 "nbformat": 4,
 "nbformat_minor": 5
}
