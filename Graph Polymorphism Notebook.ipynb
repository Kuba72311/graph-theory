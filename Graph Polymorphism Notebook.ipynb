{
 "cells": [
  {
   "cell_type": "markdown",
   "id": "10bccb13",
   "metadata": {},
   "source": [
    "# Explanation of the Graph Isomorphism Problem"
   ]
  },
  {
   "cell_type": "markdown",
   "id": "b51c1602",
   "metadata": {},
   "source": [
    "***"
   ]
  },
  {
   "cell_type": "markdown",
   "id": "fa764e36",
   "metadata": {},
   "source": [
    "The graph isomorphism problem is the computational problem of determining whether two finite graphs are isomorphic.It first emerged in the 70s as one of the few natural problems in the complexity class NP that could not be shown to be solvable with an efficient algorithm.\n",
    "\n",
    "Two graphs are said to be isomorphic if an isomorphism is present between the two graphs. In graph theory, an isomorphism of two graphs A & B is a bijection between the vertex sets of A & B. This means that are there no elements that are unpaired.\n",
    "\n",
    "Below are two graphs that are isomorphic. We can assume the first graph is A and the second graph is B.\n",
    "\n",
    "On these graphs we can see the following isomorphism.\n",
    "\n",
    "A(a) = B(1) |\n",
    "A(b) = B(6) |\n",
    "A(c) = B(8) |\n",
    "A(d) = B(3) |\n",
    "A(g) = B(2) |\n",
    "A(i) = B(4) |\n",
    "A(j) = B(7) |\n",
    "\n",
    "The isomorphism from graph A to graph B is a one-to-one mapping π from the vertices of the first graph A onto the vertices of the second graph B that preserves adjacency and nonadjacency.\n",
    "\n"
   ]
  },
  {
   "cell_type": "markdown",
   "id": "030c0f5d",
   "metadata": {},
   "source": [
    "\n",
    "![Graph A](https://upload.wikimedia.org/wikipedia/commons/thumb/9/9a/Graph_isomorphism_a.svg/100px-Graph_isomorphism_a.svg.png) ![Graph B](https://upload.wikimedia.org/wikipedia/commons/thumb/8/84/Graph_isomorphism_b.svg/210px-Graph_isomorphism_b.svg.png)"
   ]
  },
  {
   "cell_type": "markdown",
   "id": "4772f527",
   "metadata": {},
   "source": [
    "***"
   ]
  },
  {
   "cell_type": "markdown",
   "id": "eceea3d3",
   "metadata": {},
   "source": [
    "# How Are Graphs Represented in Data Structures?"
   ]
  },
  {
   "cell_type": "markdown",
   "id": "afd77383",
   "metadata": {},
   "source": [
    "***"
   ]
  },
  {
   "cell_type": "markdown",
   "id": "e11fa69a",
   "metadata": {},
   "source": [
    "Graphs are visual representations of sets of values where pairs of values are connected by links. Graphs can be represented in data structure by using an array of vertices and a 2D array of edges. <u>Vertices</u> are the points that represent the connected values while <u>Edges</u> are the links that connect the vertices together. Graps can be categorized into directed and undirected."
   ]
  },
  {
   "cell_type": "markdown",
   "id": "c2150b10",
   "metadata": {},
   "source": [
    "![graphs](https://www.tutorialspoint.com/data_structures_algorithms/images/graph_basics.jpg)"
   ]
  },
  {
   "cell_type": "markdown",
   "id": "c414377c",
   "metadata": {},
   "source": [
    "In the above graph the vertices are (a,b,c,d,e)"
   ]
  },
  {
   "cell_type": "markdown",
   "id": "33ed6321",
   "metadata": {},
   "source": [
    "The set of edges is (ab,ac,bd,cd,de) as this is what connects the vertices together."
   ]
  },
  {
   "cell_type": "markdown",
   "id": "5388cefe",
   "metadata": {},
   "source": [
    "Graphs can be represented using these 3 data structures: adjacency matrix, adjacency list and adjacency set."
   ]
  },
  {
   "cell_type": "markdown",
   "id": "278855f4",
   "metadata": {},
   "source": [
    "### Adjacency Matrix"
   ]
  },
  {
   "cell_type": "markdown",
   "id": "18eea3b8",
   "metadata": {},
   "source": [
    "***"
   ]
  },
  {
   "cell_type": "markdown",
   "id": "6fa0d8b5",
   "metadata": {},
   "source": [
    "An adjacency matrix is a table with rows and columns. It is a two dimensional array.  The rows and columns represent the nodes in the graph. This is a square matrix with an equal number of rows,columns and nodes. Each cell of the matrix represents an edge or node in the graph."
   ]
  },
  {
   "cell_type": "markdown",
   "id": "a2b8dee7",
   "metadata": {},
   "source": [
    "#### Directed Graph"
   ]
  },
  {
   "cell_type": "markdown",
   "id": "17d19cc3",
   "metadata": {},
   "source": [
    "Below is an adjacency matrix for a directed graph. It is a square matrix where the number of rows columns and nodes is the same and each row and column correspong to a node or vertex of a graph. The cells represent the relationship between nodes.\n",
    "No nodes in this directed graph are connect to itself, therefore all cells on the diagonal of the matrix are equal to zero.\n",
    "If there is a connection between one node and another, the cell is marked as 1."
   ]
  },
  {
   "cell_type": "markdown",
   "id": "3d16f279",
   "metadata": {},
   "source": [
    "![directed](https://d1m75rqqgidzqn.cloudfront.net/wp-data/2020/10/13105215/image-15.png)"
   ]
  },
  {
   "cell_type": "markdown",
   "id": "e3068e48",
   "metadata": {},
   "source": [
    "#### Undirected Graph"
   ]
  },
  {
   "cell_type": "markdown",
   "id": "bd6f0168",
   "metadata": {},
   "source": [
    "Below we see an adjacency matrix for an undirected graph. Like in the directed graph, the number of rows, columns and nodes is the same and each column corresponds to a vertex in the graph. Here we have have nodes that are connected to itself, unlike in the directed graph. We can look at the vertices A & B and their edges. A is connected to B however, B is connected to A as well. This means that both their cells , the one with source A destination B and the other one with source B destination A are down as 1."
   ]
  },
  {
   "cell_type": "markdown",
   "id": "428bfd13",
   "metadata": {},
   "source": [
    "![undirected](https://d1m75rqqgidzqn.cloudfront.net/wp-data/2020/10/13105241/image-16.png)"
   ]
  },
  {
   "cell_type": "markdown",
   "id": "a56308be",
   "metadata": {},
   "source": [
    "### Adjacency List"
   ]
  },
  {
   "cell_type": "markdown",
   "id": "9e2044c6",
   "metadata": {},
   "source": [
    "An adjacency list represents every vertex as a node object. The node contains a reference to a linked list and this list provides a list of all the nodes that are adjacent to the current node. We can see this in the below diagram for a directed graph."
   ]
  },
  {
   "cell_type": "markdown",
   "id": "b1707bec",
   "metadata": {},
   "source": [
    "![directed](https://d1m75rqqgidzqn.cloudfront.net/wp-data/2020/10/13105411/image-19.png)"
   ]
  },
  {
   "cell_type": "markdown",
   "id": "d4588b99",
   "metadata": {},
   "source": [
    "Adjacency lists for undirected graphs are created in the same way however we can expect to see more entries as seen below."
   ]
  },
  {
   "cell_type": "markdown",
   "id": "0650b921",
   "metadata": {},
   "source": [
    "![undirected](https://d1m75rqqgidzqn.cloudfront.net/wp-data/2020/10/13105451/image-20.png)"
   ]
  },
  {
   "cell_type": "markdown",
   "id": "a1231713",
   "metadata": {},
   "source": [
    "Adjacency lists are a faster search process than the adjacency matrix however they are tricky when adding or removing nodes. Deleting a node would require you to look at all the adjacency lists to remove a node and reconnect the lists."
   ]
  },
  {
   "cell_type": "markdown",
   "id": "532e07a1",
   "metadata": {},
   "source": [
    "### Adjacency Set"
   ]
  },
  {
   "cell_type": "markdown",
   "id": "7c4993fe",
   "metadata": {},
   "source": [
    "An adjacency set rectifies the difficulties found when using an adjacency list. It is similar to the list however it uses a set of adjacent vertices instead of a linked list."
   ]
  },
  {
   "cell_type": "markdown",
   "id": "91aa5492",
   "metadata": {},
   "source": [
    "# References"
   ]
  },
  {
   "cell_type": "markdown",
   "id": "73b5b78b",
   "metadata": {},
   "source": [
    "***"
   ]
  },
  {
   "cell_type": "markdown",
   "id": "971ef34d",
   "metadata": {},
   "source": [
    "Graph Isomorphism problem: (https://cacm.acm.org/magazines/2020/11/248220-the-graph-isomorphism-problem/fulltext)"
   ]
  },
  {
   "cell_type": "markdown",
   "id": "4b614510",
   "metadata": {},
   "source": [
    "Graph Isomorphism: (https://en.wikipedia.org/wiki/Graph_isomorphism)"
   ]
  },
  {
   "cell_type": "markdown",
   "id": "19efb572",
   "metadata": {},
   "source": [
    "Representation of Graphs in Data Structures: (https://www.tutorialspoint.com/data_structures_algorithms/graph_data_structure.htm)"
   ]
  },
  {
   "cell_type": "markdown",
   "id": "2d9e96a2",
   "metadata": {},
   "source": [
    "Graps in Data Structure: (https://www.mygreatlearning.com/blog/representing-graphs-in-data-structures/#:~:text=A%20graph%20can%20be%20represented%20using%203%20data,of%20rows%2C%20columns%20and%20nodes%20are%20the%20same.?msclkid=ff46f24acfc511ec94f86e9ae593998e)"
   ]
  }
 ],
 "metadata": {
  "kernelspec": {
   "display_name": "Python 3 (ipykernel)",
   "language": "python",
   "name": "python3"
  },
  "language_info": {
   "codemirror_mode": {
    "name": "ipython",
    "version": 3
   },
   "file_extension": ".py",
   "mimetype": "text/x-python",
   "name": "python",
   "nbconvert_exporter": "python",
   "pygments_lexer": "ipython3",
   "version": "3.9.7"
  }
 },
 "nbformat": 4,
 "nbformat_minor": 5
}
