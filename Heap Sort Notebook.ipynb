{
 "cells": [
  {
   "cell_type": "markdown",
   "id": "efb5018a",
   "metadata": {},
   "source": [
    "# Explanation of the HeapSort Algorithm"
   ]
  },
  {
   "cell_type": "markdown",
   "id": "60b201bc",
   "metadata": {},
   "source": [
    "***"
   ]
  },
  {
   "cell_type": "markdown",
   "id": "730a6712",
   "metadata": {},
   "source": [
    "HeapSort is a sorting algorithm widely used in computer programming. It is popular and efficient and it requires knowledge of two data structures known as arrays and trees.\n",
    "\n",
    "The HeapSort algorithm sorts an array of numbers in order, that array being formatted first as a heap.\n",
    "\n",
    "The heap stores data in a binary tree where all the children of a parent are less than its parent.\n",
    "\n",
    "HeapSort has a time complexity of O(n log n).\n",
    "\n",
    "\n",
    "The HeapSort algorithm follows the following steps:\n",
    " \n",
    "1: Starts by removing the root value from the array and places it at the last position.\n",
    "\n",
    "2: The last value is placed in the empty spot.\n",
    "\n",
    "3: The size of the heap is then decremented by 1.\n",
    "\n",
    "4: Heapify is run on the heap to ensure that the highest value is at the root of the list.\n",
    " \n",
    "The process has to be repeated until the list is sorted.\n",
    "\n",
    "Below is a simplified diagram of a max-heap being built.\n",
    "\n",
    "![HeapSort](https://he-s3.s3.amazonaws.com/media/uploads/c9fa843.png)\n",
    "\n",
    "\n"
   ]
  }
 ],
 "metadata": {
  "kernelspec": {
   "display_name": "Python 3 (ipykernel)",
   "language": "python",
   "name": "python3"
  },
  "language_info": {
   "codemirror_mode": {
    "name": "ipython",
    "version": 3
   },
   "file_extension": ".py",
   "mimetype": "text/x-python",
   "name": "python",
   "nbconvert_exporter": "python",
   "pygments_lexer": "ipython3",
   "version": "3.9.7"
  }
 },
 "nbformat": 4,
 "nbformat_minor": 5
}
