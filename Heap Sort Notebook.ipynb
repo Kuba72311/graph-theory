{
 "cells": [
  {
   "cell_type": "markdown",
   "id": "efb5018a",
   "metadata": {},
   "source": [
    "# Explanation of the HeapSort Algorithm"
   ]
  },
  {
   "cell_type": "markdown",
   "id": "60b201bc",
   "metadata": {},
   "source": [
    "***"
   ]
  },
  {
   "cell_type": "markdown",
   "id": "730a6712",
   "metadata": {},
   "source": [
    "HeapSort is a sorting algorithm widely used in computer programming. It is popular and efficient and it requires knowledge of two data structures known as arrays and trees.\n",
    "\n",
    "It works by removing elements from the heap part of the array and adding them to the sorted part of the array.\n",
    "\n",
    "The heap stores data in a binary tree where all the children of a parent are less than its parent.(In a max-heap situation)\n",
    "\n",
    "HeapSort has a time complexity of O(n log n).\n",
    "\n",
    "\n",
    "The HeapSort algorithm follows the following steps:\n",
    " \n",
    "1: Starts by removing the root value from the array and places it at the last position.\n",
    "\n",
    "2: The last value is placed in the empty spot.\n",
    "\n",
    "3: The size of the heap is then decremented by 1.\n",
    "\n",
    "4: Heapify is run on the heap to ensure that the highest value is at the root of the list.\n",
    " \n",
    "The process has to be repeated until the list is sorted.\n",
    "\n",
    "Below is a simplified diagram of a max-heap being built.\n",
    "\n",
    "![HeapSort](https://he-s3.s3.amazonaws.com/media/uploads/c9fa843.png)\n",
    "\n",
    "\n"
   ]
  },
  {
   "cell_type": "markdown",
   "id": "2428c12c",
   "metadata": {},
   "source": [
    "***"
   ]
  },
  {
   "cell_type": "markdown",
   "id": "a563027e",
   "metadata": {},
   "source": [
    "# HeapSort Implementation in Python"
   ]
  },
  {
   "cell_type": "markdown",
   "id": "9335b033",
   "metadata": {},
   "source": [
    "***"
   ]
  },
  {
   "cell_type": "code",
   "execution_count": 60,
   "id": "775a5f34",
   "metadata": {},
   "outputs": [],
   "source": [
    "def heapify(a,count):\n",
    "    start = (count-2) // 2 \n",
    "    \n",
    "    while start >= 0:\n",
    "        siftDown(a,start,count-1)\n",
    "        start = start-1"
   ]
  },
  {
   "cell_type": "code",
   "execution_count": 61,
   "id": "7f8289a5",
   "metadata": {},
   "outputs": [],
   "source": [
    "def siftDown(a,start,end):\n",
    "    root = start\n",
    "    \n",
    "    while (2 * root + 1) <= end:\n",
    "        child = (2 * root + 1)\n",
    "        swap = root\n",
    "        \n",
    "        if a[swap] < a[child]:\n",
    "            swap = child\n",
    "        if child + 1 <= end and a[swap] < a[child + 1]:\n",
    "            swap = child + 1\n",
    "        if swap == root:\n",
    "            return\n",
    "        else:\n",
    "            a[root],a[swap] = a[swap], a[root]\n",
    "            root = swap"
   ]
  },
  {
   "cell_type": "code",
   "execution_count": 62,
   "id": "dcf0a919",
   "metadata": {},
   "outputs": [],
   "source": [
    "def heapsort(a):\n",
    "    count = len(a)\n",
    "    heapify(a,count)\n",
    "    end = count - 1\n",
    "    \n",
    "    while end > 0:\n",
    "        a[0], a[end] = a[end],a[0]\n",
    "        end = end - 1\n",
    "        siftDown(a,0,end)"
   ]
  },
  {
   "cell_type": "code",
   "execution_count": 63,
   "id": "9a143203",
   "metadata": {},
   "outputs": [
    {
     "data": {
      "text/plain": [
       "[5, 4, 8, 2, 1]"
      ]
     },
     "execution_count": 63,
     "metadata": {},
     "output_type": "execute_result"
    }
   ],
   "source": [
    "L=[5,4,8,2,1]\n",
    "L"
   ]
  },
  {
   "cell_type": "code",
   "execution_count": 64,
   "id": "35d4fd77",
   "metadata": {},
   "outputs": [
    {
     "data": {
      "text/plain": [
       "[1, 2, 4, 5, 8]"
      ]
     },
     "execution_count": 64,
     "metadata": {},
     "output_type": "execute_result"
    }
   ],
   "source": [
    "heapsort(L)\n",
    "L"
   ]
  },
  {
   "cell_type": "markdown",
   "id": "9e435b9d",
   "metadata": {},
   "source": [
    "Implemented using pseudocode from Wikipedia"
   ]
  },
  {
   "cell_type": "markdown",
   "id": "d58c8db0",
   "metadata": {},
   "source": [
    "***"
   ]
  },
  {
   "cell_type": "markdown",
   "id": "08ea1cca",
   "metadata": {},
   "source": [
    "# Computational Complexity of HeapSort"
   ]
  },
  {
   "cell_type": "markdown",
   "id": "68a2929e",
   "metadata": {},
   "source": [
    "***"
   ]
  },
  {
   "cell_type": "markdown",
   "id": "7af046f7",
   "metadata": {},
   "source": [
    "### Complexity of inserting a node"
   ]
  },
  {
   "cell_type": "markdown",
   "id": "e2c981b9",
   "metadata": {},
   "source": [
    "When inserting a new value in the heap, the max number of steps comes to O(log(n)). The max heigh of a binary tree structure is O(log(n)). When the algorithm inserts a new value in the heap it is swapped with a with a greater value(maintaining the idea that the child is always lesser than its parent). The number of these swaps is O(log(n)). \n",
    "\n",
    "This means the complexity of adding a new value into the heap is equal to O(log(n))"
   ]
  },
  {
   "cell_type": "markdown",
   "id": "28579730",
   "metadata": {},
   "source": [
    "### Complexity of removing the max value from the heap"
   ]
  },
  {
   "cell_type": "markdown",
   "id": "688ad83d",
   "metadata": {},
   "source": [
    "***"
   ]
  },
  {
   "cell_type": "markdown",
   "id": "64cc2b67",
   "metadata": {},
   "source": [
    "Like inserting a value to the heap, the max number of steps is also equal to O(log(n)). Here we remove the max value from the heap and add it to the end of the list. The max number of steps is the same as inserting a value therefore the total time complexity  is O(log(n))."
   ]
  },
  {
   "cell_type": "markdown",
   "id": "cbfbc8d3",
   "metadata": {},
   "source": [
    "### Total Time Complexity of HeapSort"
   ]
  },
  {
   "cell_type": "markdown",
   "id": "fdbd1750",
   "metadata": {},
   "source": [
    "***"
   ]
  },
  {
   "cell_type": "markdown",
   "id": "8e41791b",
   "metadata": {},
   "source": [
    "1. The removal of the first node take log(n) time.\n",
    "2. The removal of the second node takes log(n-1) time.\n",
    "3. The third remove takes log(n-2) time.\n",
    "4. This continues until the last node (log(n-3), log(n-4) etc.). The last node takes log(1) time.\n",
    "\n",
    "This means the we getting the following calculation\n",
    "\n",
    "log(n) + log(n-1) + log(n-2) + log(1)\n",
    "-> log(n∗(n−1)∗(n−2)(∗2∗1)\n",
    "-> n∗log(n)−n+O(log(n))\n",
    "-> log(n!)\n",
    "\n",
    "After using Stirling's Approximation and taking into account the highest ordered item, the total complexity is equal to\n",
    "O(n log n)."
   ]
  },
  {
   "cell_type": "markdown",
   "id": "9249c790",
   "metadata": {},
   "source": [
    "***"
   ]
  },
  {
   "cell_type": "markdown",
   "id": "6ddbea1a",
   "metadata": {},
   "source": [
    "# How Graph Theory Is Used In HeapSort"
   ]
  },
  {
   "cell_type": "markdown",
   "id": "87c99280",
   "metadata": {},
   "source": [
    "***"
   ]
  },
  {
   "cell_type": "markdown",
   "id": "ca4bd24d",
   "metadata": {},
   "source": [
    "Heap sort is a comparison-based sorting technique based on binary heaps.\n",
    "\n",
    "A binary heap is a complete binary tree where values are stored in nodes and the nodes are connected using edges. The heap can be represented by a binary tree.\n",
    "\n",
    "Graph Theory is ultimately the the study of relationships of a given set of nodes and connections.\n",
    "\n",
    "As a heap is a binary tree, we are using graph theory to study the relationships between nodes and their connections in the binary heap."
   ]
  },
  {
   "cell_type": "markdown",
   "id": "2f1e5756",
   "metadata": {},
   "source": [
    "# References"
   ]
  },
  {
   "cell_type": "markdown",
   "id": "875dd146",
   "metadata": {},
   "source": [
    "***"
   ]
  },
  {
   "cell_type": "markdown",
   "id": "a7ee1c11",
   "metadata": {},
   "source": [
    "HeapSort Explanation: (https://www.programiz.com/dsa/heap-sort)"
   ]
  },
  {
   "cell_type": "markdown",
   "id": "683caaad",
   "metadata": {},
   "source": [
    "HeapSort Pseudocode used to develop python code implementation: (https://en.wikipedia.org/wiki/Heapsort)"
   ]
  },
  {
   "cell_type": "markdown",
   "id": "67a96a03",
   "metadata": {},
   "source": [
    "Complexity of HeapSort: (https://iq.opengenus.org/time-complexity-of-heap-sort/)\n"
   ]
  },
  {
   "cell_type": "markdown",
   "id": "ed2de679",
   "metadata": {},
   "source": [
    "Stirling's Approximation: (https://en.wikipedia.org/wiki/Stirling%27s_approximation)"
   ]
  }
 ],
 "metadata": {
  "kernelspec": {
   "display_name": "Python 3 (ipykernel)",
   "language": "python",
   "name": "python3"
  },
  "language_info": {
   "codemirror_mode": {
    "name": "ipython",
    "version": 3
   },
   "file_extension": ".py",
   "mimetype": "text/x-python",
   "name": "python",
   "nbconvert_exporter": "python",
   "pygments_lexer": "ipython3",
   "version": "3.9.7"
  }
 },
 "nbformat": 4,
 "nbformat_minor": 5
}
