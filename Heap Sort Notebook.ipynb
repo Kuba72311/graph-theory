{
 "cells": [
  {
   "cell_type": "markdown",
   "id": "efb5018a",
   "metadata": {},
   "source": [
    "# Explanation of the HeapSort Algorithm"
   ]
  },
  {
   "cell_type": "markdown",
   "id": "60b201bc",
   "metadata": {},
   "source": [
    "***"
   ]
  },
  {
   "cell_type": "markdown",
   "id": "730a6712",
   "metadata": {},
   "source": [
    "HeapSort is a sorting algorithm widely used in computer programming. It is popular and efficient and it requires knowledge of two data structures known as arrays and trees.\n",
    "\n",
    "It works by removing elements from the heap part of the array and adding them to the sorted part of the array.\n",
    "\n",
    "The heap stores data in a binary tree where all the children of a parent are less than its parent.\n",
    "\n",
    "HeapSort has a time complexity of O(n log n).\n",
    "\n",
    "\n",
    "The HeapSort algorithm follows the following steps:\n",
    " \n",
    "1: Starts by removing the root value from the array and places it at the last position.\n",
    "\n",
    "2: The last value is placed in the empty spot.\n",
    "\n",
    "3: The size of the heap is then decremented by 1.\n",
    "\n",
    "4: Heapify is run on the heap to ensure that the highest value is at the root of the list.\n",
    " \n",
    "The process has to be repeated until the list is sorted.\n",
    "\n",
    "Below is a simplified diagram of a max-heap being built.\n",
    "\n",
    "![HeapSort](https://he-s3.s3.amazonaws.com/media/uploads/c9fa843.png)\n",
    "\n",
    "\n"
   ]
  },
  {
   "cell_type": "markdown",
   "id": "44564b69",
   "metadata": {},
   "source": [
    "# HeapSort Implementation in Python"
   ]
  },
  {
   "cell_type": "markdown",
   "id": "3cf2b2ee",
   "metadata": {},
   "source": [
    "***"
   ]
  },
  {
   "cell_type": "code",
   "execution_count": 60,
   "id": "954b2ffc",
   "metadata": {},
   "outputs": [],
   "source": [
    "def heapify(a,count):\n",
    "    start = (count-2) // 2 \n",
    "    \n",
    "    while start >= 0:\n",
    "        siftDown(a,start,count-1)\n",
    "        start = start-1"
   ]
  },
  {
   "cell_type": "code",
   "execution_count": 61,
   "id": "d4267949",
   "metadata": {},
   "outputs": [],
   "source": [
    "def siftDown(a,start,end):\n",
    "    root = start\n",
    "    \n",
    "    while (2 * root + 1) <= end:\n",
    "        child = (2 * root + 1)\n",
    "        swap = root\n",
    "        \n",
    "        if a[swap] < a[child]:\n",
    "            swap = child\n",
    "        if child + 1 <= end and a[swap] < a[child + 1]:\n",
    "            swap = child + 1\n",
    "        if swap == root:\n",
    "            return\n",
    "        else:\n",
    "            a[root],a[swap] = a[swap], a[root]\n",
    "            root = swap"
   ]
  },
  {
   "cell_type": "code",
   "execution_count": 62,
   "id": "3b1e8c95",
   "metadata": {},
   "outputs": [],
   "source": [
    "def heapsort(a):\n",
    "    count = len(a)\n",
    "    heapify(a,count)\n",
    "    end = count - 1\n",
    "    \n",
    "    while end > 0:\n",
    "        a[0], a[end] = a[end],a[0]\n",
    "        end = end - 1\n",
    "        siftDown(a,0,end)"
   ]
  },
  {
   "cell_type": "code",
   "execution_count": 63,
   "id": "32025cea",
   "metadata": {},
   "outputs": [
    {
     "data": {
      "text/plain": [
       "[5, 4, 8, 2, 1]"
      ]
     },
     "execution_count": 63,
     "metadata": {},
     "output_type": "execute_result"
    }
   ],
   "source": [
    "L=[5,4,8,2,1]\n",
    "L"
   ]
  },
  {
   "cell_type": "code",
   "execution_count": 64,
   "id": "89ced160",
   "metadata": {},
   "outputs": [
    {
     "data": {
      "text/plain": [
       "[1, 2, 4, 5, 8]"
      ]
     },
     "execution_count": 64,
     "metadata": {},
     "output_type": "execute_result"
    }
   ],
   "source": [
    "heapsort(L)\n",
    "L"
   ]
  },
  {
   "cell_type": "code",
   "execution_count": null,
   "id": "20f7a5fc",
   "metadata": {},
   "outputs": [],
   "source": []
  }
 ],
 "metadata": {
  "kernelspec": {
   "display_name": "Python 3 (ipykernel)",
   "language": "python",
   "name": "python3"
  },
  "language_info": {
   "codemirror_mode": {
    "name": "ipython",
    "version": 3
   },
   "file_extension": ".py",
   "mimetype": "text/x-python",
   "name": "python",
   "nbconvert_exporter": "python",
   "pygments_lexer": "ipython3",
   "version": "3.9.7"
  }
 },
 "nbformat": 4,
 "nbformat_minor": 5
}
